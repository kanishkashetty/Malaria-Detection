{
 "cells": [
  {
   "cell_type": "code",
   "execution_count": 1,
   "metadata": {},
   "outputs": [],
   "source": [
    "\n",
    "from tensorflow.keras.layers import Input, Lambda, Dense, Flatten,Conv2D\n",
    "from tensorflow.keras.models import Model\n",
    "from tensorflow.keras.applications.vgg19 import VGG19\n",
    "from tensorflow.keras.applications.resnet50 import preprocess_input\n",
    "from tensorflow.keras.preprocessing import image\n",
    "from tensorflow.keras.preprocessing.image import ImageDataGenerator,load_img\n",
    "from tensorflow.keras.models import Sequential\n",
    "import numpy as np\n",
    "from glob import glob\n",
    "import matplotlib.pyplot as plt"
   ]
  },
  {
   "cell_type": "code",
   "execution_count": 2,
   "metadata": {},
   "outputs": [
    {
     "name": "stdout",
     "output_type": "stream",
     "text": [
      "2.2.0\n"
     ]
    }
   ],
   "source": [
    "import tensorflow as tf\n",
    "print (tf.__version__)"
   ]
  },
  {
   "cell_type": "code",
   "execution_count": 3,
   "metadata": {},
   "outputs": [],
   "source": [
    "# re-size all the images to this\n",
    "IMAGE_SIZE = [224, 224]\n",
    "\n",
    "train_path = 'Dataset/Train'\n",
    "valid_path = 'Dataset/Test'"
   ]
  },
  {
   "cell_type": "code",
   "execution_count": 4,
   "metadata": {},
   "outputs": [],
   "source": [
    "mobilnet = VGG19(input_shape=IMAGE_SIZE + [3], weights='imagenet', include_top=False)"
   ]
  },
  {
   "cell_type": "code",
   "execution_count": 5,
   "metadata": {},
   "outputs": [],
   "source": [
    "for layer in mobilnet.layers:\n",
    "    layer.trainable = False"
   ]
  },
  {
   "cell_type": "code",
   "execution_count": 6,
   "metadata": {},
   "outputs": [],
   "source": [
    "folders = glob('Dataset/Train/*')"
   ]
  },
  {
   "cell_type": "code",
   "execution_count": 7,
   "metadata": {},
   "outputs": [
    {
     "data": {
      "text/plain": [
       "['Dataset/Train\\\\Parasite', 'Dataset/Train\\\\Uninfected']"
      ]
     },
     "execution_count": 7,
     "metadata": {},
     "output_type": "execute_result"
    }
   ],
   "source": [
    "folders"
   ]
  },
  {
   "cell_type": "code",
   "execution_count": 8,
   "metadata": {},
   "outputs": [],
   "source": [
    "x = Flatten()(mobilnet.output)"
   ]
  },
  {
   "cell_type": "code",
   "execution_count": 9,
   "metadata": {},
   "outputs": [],
   "source": [
    "prediction = Dense(len(folders), activation='softmax')(x)\n",
    "\n",
    "# create a model object\n",
    "model = Model(inputs=mobilnet.input, outputs=prediction)"
   ]
  },
  {
   "cell_type": "code",
   "execution_count": 10,
   "metadata": {},
   "outputs": [
    {
     "name": "stdout",
     "output_type": "stream",
     "text": [
      "Model: \"model\"\n",
      "_________________________________________________________________\n",
      "Layer (type)                 Output Shape              Param #   \n",
      "=================================================================\n",
      "input_1 (InputLayer)         [(None, 224, 224, 3)]     0         \n",
      "_________________________________________________________________\n",
      "block1_conv1 (Conv2D)        (None, 224, 224, 64)      1792      \n",
      "_________________________________________________________________\n",
      "block1_conv2 (Conv2D)        (None, 224, 224, 64)      36928     \n",
      "_________________________________________________________________\n",
      "block1_pool (MaxPooling2D)   (None, 112, 112, 64)      0         \n",
      "_________________________________________________________________\n",
      "block2_conv1 (Conv2D)        (None, 112, 112, 128)     73856     \n",
      "_________________________________________________________________\n",
      "block2_conv2 (Conv2D)        (None, 112, 112, 128)     147584    \n",
      "_________________________________________________________________\n",
      "block2_pool (MaxPooling2D)   (None, 56, 56, 128)       0         \n",
      "_________________________________________________________________\n",
      "block3_conv1 (Conv2D)        (None, 56, 56, 256)       295168    \n",
      "_________________________________________________________________\n",
      "block3_conv2 (Conv2D)        (None, 56, 56, 256)       590080    \n",
      "_________________________________________________________________\n",
      "block3_conv3 (Conv2D)        (None, 56, 56, 256)       590080    \n",
      "_________________________________________________________________\n",
      "block3_conv4 (Conv2D)        (None, 56, 56, 256)       590080    \n",
      "_________________________________________________________________\n",
      "block3_pool (MaxPooling2D)   (None, 28, 28, 256)       0         \n",
      "_________________________________________________________________\n",
      "block4_conv1 (Conv2D)        (None, 28, 28, 512)       1180160   \n",
      "_________________________________________________________________\n",
      "block4_conv2 (Conv2D)        (None, 28, 28, 512)       2359808   \n",
      "_________________________________________________________________\n",
      "block4_conv3 (Conv2D)        (None, 28, 28, 512)       2359808   \n",
      "_________________________________________________________________\n",
      "block4_conv4 (Conv2D)        (None, 28, 28, 512)       2359808   \n",
      "_________________________________________________________________\n",
      "block4_pool (MaxPooling2D)   (None, 14, 14, 512)       0         \n",
      "_________________________________________________________________\n",
      "block5_conv1 (Conv2D)        (None, 14, 14, 512)       2359808   \n",
      "_________________________________________________________________\n",
      "block5_conv2 (Conv2D)        (None, 14, 14, 512)       2359808   \n",
      "_________________________________________________________________\n",
      "block5_conv3 (Conv2D)        (None, 14, 14, 512)       2359808   \n",
      "_________________________________________________________________\n",
      "block5_conv4 (Conv2D)        (None, 14, 14, 512)       2359808   \n",
      "_________________________________________________________________\n",
      "block5_pool (MaxPooling2D)   (None, 7, 7, 512)         0         \n",
      "_________________________________________________________________\n",
      "flatten (Flatten)            (None, 25088)             0         \n",
      "_________________________________________________________________\n",
      "dense (Dense)                (None, 2)                 50178     \n",
      "=================================================================\n",
      "Total params: 20,074,562\n",
      "Trainable params: 50,178\n",
      "Non-trainable params: 20,024,384\n",
      "_________________________________________________________________\n"
     ]
    }
   ],
   "source": [
    "model.summary()"
   ]
  },
  {
   "cell_type": "code",
   "execution_count": 11,
   "metadata": {},
   "outputs": [],
   "source": [
    "from tensorflow.keras.layers import MaxPooling2D"
   ]
  },
  {
   "cell_type": "code",
   "execution_count": 12,
   "metadata": {},
   "outputs": [
    {
     "name": "stdout",
     "output_type": "stream",
     "text": [
      "Model: \"sequential\"\n",
      "_________________________________________________________________\n",
      "Layer (type)                 Output Shape              Param #   \n",
      "=================================================================\n",
      "conv2d (Conv2D)              (None, 224, 224, 16)      208       \n",
      "_________________________________________________________________\n",
      "max_pooling2d (MaxPooling2D) (None, 112, 112, 16)      0         \n",
      "_________________________________________________________________\n",
      "conv2d_1 (Conv2D)            (None, 112, 112, 32)      2080      \n",
      "_________________________________________________________________\n",
      "max_pooling2d_1 (MaxPooling2 (None, 56, 56, 32)        0         \n",
      "_________________________________________________________________\n",
      "conv2d_2 (Conv2D)            (None, 56, 56, 64)        8256      \n",
      "_________________________________________________________________\n",
      "max_pooling2d_2 (MaxPooling2 (None, 28, 28, 64)        0         \n",
      "_________________________________________________________________\n",
      "flatten_1 (Flatten)          (None, 50176)             0         \n",
      "_________________________________________________________________\n",
      "dense_1 (Dense)              (None, 500)               25088500  \n",
      "_________________________________________________________________\n",
      "dense_2 (Dense)              (None, 2)                 1002      \n",
      "=================================================================\n",
      "Total params: 25,100,046\n",
      "Trainable params: 25,100,046\n",
      "Non-trainable params: 0\n",
      "_________________________________________________________________\n"
     ]
    }
   ],
   "source": [
    "model=Sequential()\n",
    "model.add(Conv2D(filters=16,kernel_size=2,padding=\"same\",activation=\"relu\",input_shape=(224,224,3)))\n",
    "model.add(MaxPooling2D(pool_size=2))\n",
    "model.add(Conv2D(filters=32,kernel_size=2,padding=\"same\",activation =\"relu\"))\n",
    "model.add(MaxPooling2D(pool_size=2))\n",
    "model.add(Conv2D(filters=64,kernel_size=2,padding=\"same\",activation=\"relu\"))\n",
    "model.add(MaxPooling2D(pool_size=2))\n",
    "model.add(Flatten())\n",
    "model.add(Dense(500,activation=\"relu\"))\n",
    "model.add(Dense(2,activation=\"softmax\"))\n",
    "model.summary()"
   ]
  },
  {
   "cell_type": "code",
   "execution_count": 13,
   "metadata": {},
   "outputs": [],
   "source": [
    "model.compile(\n",
    "  loss='categorical_crossentropy',\n",
    "  optimizer='adam',\n",
    "  metrics=['accuracy']\n",
    ")\n"
   ]
  },
  {
   "cell_type": "code",
   "execution_count": 14,
   "metadata": {},
   "outputs": [],
   "source": [
    "from tensorflow.keras.preprocessing.image import ImageDataGenerator\n",
    "\n",
    "train_datagen = ImageDataGenerator(rescale = 1./255,\n",
    "                                   shear_range = 0.2,\n",
    "                                   zoom_range = 0.2,\n",
    "                                   horizontal_flip = True)\n",
    "\n",
    "test_datagen = ImageDataGenerator(rescale = 1./255)"
   ]
  },
  {
   "cell_type": "code",
   "execution_count": 15,
   "metadata": {},
   "outputs": [
    {
     "name": "stdout",
     "output_type": "stream",
     "text": [
      "Found 416 images belonging to 2 classes.\n"
     ]
    }
   ],
   "source": [
    "training_set = train_datagen.flow_from_directory('Dataset/Train',\n",
    "                                                 target_size = (224, 224),\n",
    "                                                 batch_size = 32,\n",
    "                                                 class_mode = 'categorical')"
   ]
  },
  {
   "cell_type": "code",
   "execution_count": 16,
   "metadata": {},
   "outputs": [
    {
     "data": {
      "text/plain": [
       "<keras_preprocessing.image.directory_iterator.DirectoryIterator at 0x1a178aaf9d0>"
      ]
     },
     "execution_count": 16,
     "metadata": {},
     "output_type": "execute_result"
    }
   ],
   "source": [
    "training_set"
   ]
  },
  {
   "cell_type": "code",
   "execution_count": 17,
   "metadata": {},
   "outputs": [
    {
     "name": "stdout",
     "output_type": "stream",
     "text": [
      "Found 134 images belonging to 2 classes.\n"
     ]
    }
   ],
   "source": [
    "test_set = test_datagen.flow_from_directory('Dataset/Test',\n",
    "                                            target_size = (224, 224),\n",
    "                                            batch_size = 32,\n",
    "                                            class_mode = 'categorical')"
   ]
  },
  {
   "cell_type": "code",
   "execution_count": 18,
   "metadata": {},
   "outputs": [
    {
     "name": "stdout",
     "output_type": "stream",
     "text": [
      "WARNING:tensorflow:From <ipython-input-18-69229fe26ea3>:3: Model.fit_generator (from tensorflow.python.keras.engine.training) is deprecated and will be removed in a future version.\n",
      "Instructions for updating:\n",
      "Please use Model.fit, which supports generators.\n",
      "Epoch 1/50\n",
      "13/13 [==============================] - 86s 7s/step - loss: 1.5005 - accuracy: 0.5769 - val_loss: 0.8149 - val_accuracy: 0.3209\n",
      "Epoch 2/50\n",
      "13/13 [==============================] - 124s 10s/step - loss: 0.7000 - accuracy: 0.4832 - val_loss: 0.6825 - val_accuracy: 0.6791\n",
      "Epoch 3/50\n",
      "13/13 [==============================] - 122s 9s/step - loss: 0.6717 - accuracy: 0.5385 - val_loss: 0.6868 - val_accuracy: 0.5896\n",
      "Epoch 4/50\n",
      "13/13 [==============================] - 93s 7s/step - loss: 0.6183 - accuracy: 0.6370 - val_loss: 0.7514 - val_accuracy: 0.3955\n",
      "Epoch 5/50\n",
      "13/13 [==============================] - 93s 7s/step - loss: 0.5470 - accuracy: 0.7332 - val_loss: 1.0798 - val_accuracy: 0.3358\n",
      "Epoch 6/50\n",
      "13/13 [==============================] - 101s 8s/step - loss: 0.5020 - accuracy: 0.7212 - val_loss: 0.9642 - val_accuracy: 0.3806\n",
      "Epoch 7/50\n",
      "13/13 [==============================] - 50s 4s/step - loss: 0.4902 - accuracy: 0.7476 - val_loss: 0.8367 - val_accuracy: 0.3881\n",
      "Epoch 8/50\n",
      "13/13 [==============================] - 56s 4s/step - loss: 0.4428 - accuracy: 0.7524 - val_loss: 0.9021 - val_accuracy: 0.4179\n",
      "Epoch 9/50\n",
      "13/13 [==============================] - 98s 8s/step - loss: 0.4161 - accuracy: 0.8173 - val_loss: 0.8700 - val_accuracy: 0.4179\n",
      "Epoch 10/50\n",
      "13/13 [==============================] - 89s 7s/step - loss: 0.3632 - accuracy: 0.8486 - val_loss: 0.8521 - val_accuracy: 0.4627\n",
      "Epoch 11/50\n",
      "13/13 [==============================] - 109s 8s/step - loss: 0.3723 - accuracy: 0.8221 - val_loss: 0.5309 - val_accuracy: 0.7015\n",
      "Epoch 12/50\n",
      "13/13 [==============================] - 120s 9s/step - loss: 0.3041 - accuracy: 0.9014 - val_loss: 0.7364 - val_accuracy: 0.5746\n",
      "Epoch 13/50\n",
      "13/13 [==============================] - 54s 4s/step - loss: 0.2581 - accuracy: 0.8966 - val_loss: 0.6437 - val_accuracy: 0.6343\n",
      "Epoch 14/50\n",
      "13/13 [==============================] - 48s 4s/step - loss: 0.2458 - accuracy: 0.9111 - val_loss: 0.4695 - val_accuracy: 0.7612\n",
      "Epoch 15/50\n",
      "13/13 [==============================] - 63s 5s/step - loss: 0.2385 - accuracy: 0.9183 - val_loss: 0.4299 - val_accuracy: 0.7761\n",
      "Epoch 16/50\n",
      "13/13 [==============================] - 117s 9s/step - loss: 0.2067 - accuracy: 0.9279 - val_loss: 0.5159 - val_accuracy: 0.7388\n",
      "Epoch 17/50\n",
      "13/13 [==============================] - 110s 8s/step - loss: 0.1738 - accuracy: 0.9471 - val_loss: 0.4109 - val_accuracy: 0.7985\n",
      "Epoch 18/50\n",
      "13/13 [==============================] - 51s 4s/step - loss: 0.1572 - accuracy: 0.9471 - val_loss: 0.5110 - val_accuracy: 0.7910\n",
      "Epoch 19/50\n",
      "13/13 [==============================] - 46s 4s/step - loss: 0.1925 - accuracy: 0.9255 - val_loss: 0.5573 - val_accuracy: 0.7090\n",
      "Epoch 20/50\n",
      "13/13 [==============================] - 47s 4s/step - loss: 0.1563 - accuracy: 0.9399 - val_loss: 0.3617 - val_accuracy: 0.8209\n",
      "Epoch 21/50\n",
      "13/13 [==============================] - 53s 4s/step - loss: 0.1616 - accuracy: 0.9447 - val_loss: 0.3830 - val_accuracy: 0.8358\n",
      "Epoch 22/50\n",
      "13/13 [==============================] - 53s 4s/step - loss: 0.1418 - accuracy: 0.9639 - val_loss: 0.4073 - val_accuracy: 0.8060\n",
      "Epoch 23/50\n",
      "13/13 [==============================] - 48s 4s/step - loss: 0.1455 - accuracy: 0.9447 - val_loss: 0.4562 - val_accuracy: 0.7612\n",
      "Epoch 24/50\n",
      "13/13 [==============================] - 43s 3s/step - loss: 0.1629 - accuracy: 0.9495 - val_loss: 0.3136 - val_accuracy: 0.8433\n",
      "Epoch 25/50\n",
      "13/13 [==============================] - 49s 4s/step - loss: 0.1078 - accuracy: 0.9688 - val_loss: 0.4171 - val_accuracy: 0.8284\n",
      "Epoch 26/50\n",
      "13/13 [==============================] - 59s 5s/step - loss: 0.1225 - accuracy: 0.9639 - val_loss: 0.3268 - val_accuracy: 0.8507\n",
      "Epoch 27/50\n",
      "13/13 [==============================] - 51s 4s/step - loss: 0.1105 - accuracy: 0.9663 - val_loss: 0.4347 - val_accuracy: 0.7910\n",
      "Epoch 28/50\n",
      "13/13 [==============================] - 53s 4s/step - loss: 0.1144 - accuracy: 0.9639 - val_loss: 0.3444 - val_accuracy: 0.8433\n",
      "Epoch 29/50\n",
      "13/13 [==============================] - 53s 4s/step - loss: 0.0998 - accuracy: 0.9760 - val_loss: 0.1972 - val_accuracy: 0.9030\n",
      "Epoch 30/50\n",
      "13/13 [==============================] - 53s 4s/step - loss: 0.1128 - accuracy: 0.9639 - val_loss: 0.2460 - val_accuracy: 0.8881\n",
      "Epoch 31/50\n",
      "13/13 [==============================] - 59s 5s/step - loss: 0.0938 - accuracy: 0.9736 - val_loss: 0.2369 - val_accuracy: 0.8955\n",
      "Epoch 32/50\n",
      "13/13 [==============================] - 48s 4s/step - loss: 0.0810 - accuracy: 0.9760 - val_loss: 0.3400 - val_accuracy: 0.8284\n",
      "Epoch 33/50\n",
      "13/13 [==============================] - 61s 5s/step - loss: 0.1043 - accuracy: 0.9591 - val_loss: 0.2731 - val_accuracy: 0.8731\n",
      "Epoch 34/50\n",
      "13/13 [==============================] - 49s 4s/step - loss: 0.0676 - accuracy: 0.9808 - val_loss: 0.1906 - val_accuracy: 0.9030\n",
      "Epoch 35/50\n",
      "13/13 [==============================] - 48s 4s/step - loss: 0.0721 - accuracy: 0.9784 - val_loss: 0.1710 - val_accuracy: 0.9254\n",
      "Epoch 36/50\n",
      "13/13 [==============================] - 54s 4s/step - loss: 0.0672 - accuracy: 0.9784 - val_loss: 0.4709 - val_accuracy: 0.8284\n",
      "Epoch 37/50\n",
      "13/13 [==============================] - 53s 4s/step - loss: 0.0731 - accuracy: 0.9808 - val_loss: 0.1406 - val_accuracy: 0.9627\n",
      "Epoch 38/50\n",
      "13/13 [==============================] - 49s 4s/step - loss: 0.0634 - accuracy: 0.9760 - val_loss: 0.1673 - val_accuracy: 0.9701\n",
      "Epoch 39/50\n",
      "13/13 [==============================] - 56s 4s/step - loss: 0.0818 - accuracy: 0.9760 - val_loss: 0.2356 - val_accuracy: 0.9104\n",
      "Epoch 40/50\n",
      "13/13 [==============================] - 65s 5s/step - loss: 0.0813 - accuracy: 0.9760 - val_loss: 0.1434 - val_accuracy: 0.9403\n",
      "Epoch 41/50\n",
      "13/13 [==============================] - 61s 5s/step - loss: 0.0639 - accuracy: 0.9832 - val_loss: 0.1916 - val_accuracy: 0.9254\n",
      "Epoch 42/50\n",
      "13/13 [==============================] - 88s 7s/step - loss: 0.0758 - accuracy: 0.9760 - val_loss: 0.3233 - val_accuracy: 0.8806\n",
      "Epoch 43/50\n",
      "13/13 [==============================] - 63s 5s/step - loss: 0.1123 - accuracy: 0.9567 - val_loss: 0.2328 - val_accuracy: 0.9179\n",
      "Epoch 44/50\n",
      "13/13 [==============================] - 62s 5s/step - loss: 0.0614 - accuracy: 0.9832 - val_loss: 0.1476 - val_accuracy: 0.9254\n",
      "Epoch 45/50\n",
      "13/13 [==============================] - 51s 4s/step - loss: 0.0418 - accuracy: 0.9808 - val_loss: 0.2367 - val_accuracy: 0.8806\n",
      "Epoch 46/50\n",
      "13/13 [==============================] - 76s 6s/step - loss: 0.0507 - accuracy: 0.9904 - val_loss: 0.1743 - val_accuracy: 0.9403\n",
      "Epoch 47/50\n",
      "13/13 [==============================] - 63s 5s/step - loss: 0.0401 - accuracy: 0.9832 - val_loss: 0.1855 - val_accuracy: 0.9328\n",
      "Epoch 48/50\n",
      "13/13 [==============================] - 58s 4s/step - loss: 0.1798 - accuracy: 0.9543 - val_loss: 0.2515 - val_accuracy: 0.9104\n",
      "Epoch 49/50\n",
      "13/13 [==============================] - 58s 4s/step - loss: 0.0872 - accuracy: 0.9712 - val_loss: 0.1861 - val_accuracy: 0.9328\n",
      "Epoch 50/50\n",
      "13/13 [==============================] - 58s 4s/step - loss: 0.0493 - accuracy: 0.9904 - val_loss: 0.4405 - val_accuracy: 0.8433\n"
     ]
    }
   ],
   "source": [
    "# fit the model\n",
    "# Run the cell. It will take some time to execute\n",
    "r = model.fit_generator(\n",
    "  training_set,\n",
    "  validation_data=test_set,\n",
    "  epochs=50,\n",
    "  steps_per_epoch=len(training_set),\n",
    "  validation_steps=len(test_set)\n",
    ")"
   ]
  },
  {
   "cell_type": "code",
   "execution_count": 19,
   "metadata": {},
   "outputs": [
    {
     "data": {
      "image/png": "[encoded data removed]",
      "text/plain": [
       "<Figure size 432x288 with 1 Axes>"
      ]
     },
     "metadata": {
      "needs_background": "light"
     },
     "output_type": "display_data"
    },
    {
     "data": {
      "image/png": "[encoded data removed]",
      "text/plain": [
       "<Figure size 432x288 with 1 Axes>"
      ]
     },
     "metadata": {
      "needs_background": "light"
     },
     "output_type": "display_data"
    },
    {
     "data": {
      "text/plain": [
       "<Figure size 432x288 with 0 Axes>"
      ]
     },
     "metadata": {},
     "output_type": "display_data"
    }
   ],
   "source": [
    "plt.plot(r.history['loss'], label='train loss')\n",
    "plt.plot(r.history['val_loss'], label='val loss')\n",
    "plt.legend()\n",
    "plt.show()\n",
    "plt.savefig('LossVal_loss')\n",
    "\n",
    "# plot the accuracy\n",
    "plt.plot(r.history['accuracy'], label='train acc')\n",
    "plt.plot(r.history['val_accuracy'], label='val acc')\n",
    "plt.legend()\n",
    "plt.show()\n",
    "plt.savefig('AccVal_acc')"
   ]
  },
  {
   "cell_type": "code",
   "execution_count": 20,
   "metadata": {},
   "outputs": [],
   "source": [
    "from tensorflow.keras.models import load_model\n",
    "\n",
    "model.save('model_vgg19.h5')"
   ]
  },
  {
   "cell_type": "code",
   "execution_count": 21,
   "metadata": {},
   "outputs": [],
   "source": [
    "y_pred = model.predict(test_set)"
   ]
  },
  {
   "cell_type": "code",
   "execution_count": 22,
   "metadata": {},
   "outputs": [
    {
     "data": {
      "text/plain": [
       "array([[1.92974620e-02, 9.80702579e-01],\n",
       "       [9.99979019e-01, 2.10297731e-05],\n",
       "       [1.47199454e-02, 9.85280037e-01],\n",
       "       [8.97741131e-03, 9.91022587e-01],\n",
       "       [4.20936406e-01, 5.79063594e-01],\n",
       "       [1.00000000e+00, 1.55611046e-09],\n",
       "       [4.71016485e-03, 9.95289803e-01],\n",
       "       [4.12523717e-01, 5.87476313e-01],\n",
       "       [9.99991536e-01, 8.46055718e-06],\n",
       "       [9.99999881e-01, 9.85740414e-08],\n",
       "       [9.81638432e-01, 1.83615126e-02],\n",
       "       [9.99974489e-01, 2.54632705e-05],\n",
       "       [3.90222847e-01, 6.09777153e-01],\n",
       "       [9.99881148e-01, 1.18833290e-04],\n",
       "       [9.84906614e-01, 1.50934057e-02],\n",
       "       [5.14424080e-03, 9.94855762e-01],\n",
       "       [7.62896091e-02, 9.23710465e-01],\n",
       "       [6.38782680e-02, 9.36121702e-01],\n",
       "       [9.99670506e-01, 3.29517527e-04],\n",
       "       [4.18686355e-03, 9.95813072e-01],\n",
       "       [1.00000000e+00, 4.39031034e-09],\n",
       "       [1.49286923e-03, 9.98507082e-01],\n",
       "       [9.76327837e-01, 2.36721281e-02],\n",
       "       [1.62485361e-01, 8.37514639e-01],\n",
       "       [9.37900133e-03, 9.90620971e-01],\n",
       "       [1.00000000e+00, 5.42820011e-09],\n",
       "       [1.00000000e+00, 2.53388444e-09],\n",
       "       [9.99999642e-01, 3.09856603e-07],\n",
       "       [8.86056602e-01, 1.13943368e-01],\n",
       "       [1.79523195e-03, 9.98204708e-01],\n",
       "       [1.46794366e-03, 9.98532057e-01],\n",
       "       [9.98080015e-01, 1.91999564e-03],\n",
       "       [1.00000000e+00, 2.38938125e-19],\n",
       "       [1.90664735e-03, 9.98093307e-01],\n",
       "       [9.80898678e-01, 1.91013850e-02],\n",
       "       [7.43859448e-04, 9.99256074e-01],\n",
       "       [7.39642009e-02, 9.26035762e-01],\n",
       "       [1.04468213e-02, 9.89553213e-01],\n",
       "       [9.99964714e-01, 3.52960524e-05],\n",
       "       [9.99995351e-01, 4.61981836e-06],\n",
       "       [7.12530082e-03, 9.92874742e-01],\n",
       "       [1.58335909e-01, 8.41664076e-01],\n",
       "       [1.67662546e-03, 9.98323381e-01],\n",
       "       [9.98038828e-01, 1.96125009e-03],\n",
       "       [9.99995470e-01, 4.47781440e-06],\n",
       "       [1.12643978e-03, 9.98873532e-01],\n",
       "       [1.29686191e-03, 9.98703122e-01],\n",
       "       [7.50661595e-03, 9.92493451e-01],\n",
       "       [9.93670344e-01, 6.32965378e-03],\n",
       "       [9.99982953e-01, 1.70867697e-05],\n",
       "       [5.95756108e-04, 9.99404192e-01],\n",
       "       [9.99986291e-01, 1.37245061e-05],\n",
       "       [2.00211900e-04, 9.99799788e-01],\n",
       "       [9.99885678e-01, 1.14353657e-04],\n",
       "       [3.68509851e-02, 9.63149011e-01],\n",
       "       [9.99928951e-01, 7.10813329e-05],\n",
       "       [9.99830127e-01, 1.69889245e-04],\n",
       "       [1.00000000e+00, 3.72997029e-08],\n",
       "       [7.83687979e-02, 9.21631217e-01],\n",
       "       [4.27906252e-02, 9.57209408e-01],\n",
       "       [1.89449312e-03, 9.98105526e-01],\n",
       "       [2.94710752e-02, 9.70528960e-01],\n",
       "       [1.00000000e+00, 1.22337285e-09],\n",
       "       [1.00000000e+00, 4.23216505e-17],\n",
       "       [1.00000000e+00, 6.16963837e-13],\n",
       "       [9.83990550e-01, 1.60094704e-02],\n",
       "       [1.57995764e-02, 9.84200418e-01],\n",
       "       [1.00000000e+00, 1.49490129e-10],\n",
       "       [9.88944292e-01, 1.10557629e-02],\n",
       "       [3.86444665e-03, 9.96135592e-01],\n",
       "       [1.00000000e+00, 4.28374404e-13],\n",
       "       [1.00000000e+00, 9.66994484e-10],\n",
       "       [9.99998569e-01, 1.37222071e-06],\n",
       "       [9.99979019e-01, 2.10120343e-05],\n",
       "       [5.32090291e-02, 9.46790993e-01],\n",
       "       [4.48673189e-01, 5.51326811e-01],\n",
       "       [1.00000000e+00, 3.66815850e-16],\n",
       "       [1.12807006e-02, 9.88719285e-01],\n",
       "       [9.99871373e-01, 1.28658605e-04],\n",
       "       [5.02832793e-03, 9.94971633e-01],\n",
       "       [2.11434881e-03, 9.97885644e-01],\n",
       "       [1.00000000e+00, 1.30274652e-19],\n",
       "       [9.99960661e-01, 3.93735136e-05],\n",
       "       [9.99454916e-01, 5.45070099e-04],\n",
       "       [9.99311328e-01, 6.88712753e-04],\n",
       "       [9.98820364e-01, 1.17964251e-03],\n",
       "       [1.75846228e-03, 9.98241544e-01],\n",
       "       [9.28899169e-01, 7.11007938e-02],\n",
       "       [9.98921633e-01, 1.07844174e-03],\n",
       "       [1.55025860e-03, 9.98449683e-01],\n",
       "       [1.00000000e+00, 2.05468487e-09],\n",
       "       [3.54082994e-02, 9.64591682e-01],\n",
       "       [9.99999523e-01, 4.66319250e-07],\n",
       "       [9.99353230e-01, 6.46739907e-04],\n",
       "       [9.99977827e-01, 2.21851260e-05],\n",
       "       [1.37933413e-03, 9.98620629e-01],\n",
       "       [9.99988317e-01, 1.17411864e-05],\n",
       "       [9.99999881e-01, 7.04608638e-08],\n",
       "       [4.13714983e-02, 9.58628476e-01],\n",
       "       [2.05094460e-03, 9.97949064e-01],\n",
       "       [4.55963612e-03, 9.95440364e-01],\n",
       "       [2.69887154e-03, 9.97301161e-01],\n",
       "       [2.04743315e-02, 9.79525685e-01],\n",
       "       [1.37313828e-02, 9.86268580e-01],\n",
       "       [9.13685933e-03, 9.90863204e-01],\n",
       "       [8.90554860e-03, 9.91094530e-01],\n",
       "       [9.99999881e-01, 9.44726466e-08],\n",
       "       [9.99999762e-01, 2.69933849e-07],\n",
       "       [6.41779825e-02, 9.35822070e-01],\n",
       "       [1.04996925e-02, 9.89500344e-01],\n",
       "       [9.99528408e-01, 4.71628242e-04],\n",
       "       [2.34880969e-01, 7.65119076e-01],\n",
       "       [4.16756654e-03, 9.95832503e-01],\n",
       "       [1.00000000e+00, 5.52319952e-12],\n",
       "       [9.99999046e-01, 9.76491151e-07],\n",
       "       [9.99975204e-01, 2.47566913e-05],\n",
       "       [9.92675483e-01, 7.32452190e-03],\n",
       "       [9.99999881e-01, 1.10833795e-07],\n",
       "       [4.41538217e-03, 9.95584667e-01],\n",
       "       [1.00000000e+00, 1.29172714e-10],\n",
       "       [9.98901010e-01, 1.09902944e-03],\n",
       "       [5.70938289e-02, 9.42906141e-01],\n",
       "       [9.99751270e-01, 2.48724042e-04],\n",
       "       [3.52429878e-03, 9.96475637e-01],\n",
       "       [8.37259531e-01, 1.62740439e-01],\n",
       "       [1.79643976e-03, 9.98203516e-01],\n",
       "       [9.99246955e-01, 7.53130356e-04],\n",
       "       [4.00930271e-03, 9.95990694e-01],\n",
       "       [3.74537170e-01, 6.25462770e-01],\n",
       "       [7.03109754e-03, 9.92968857e-01],\n",
       "       [8.39770377e-01, 1.60229653e-01],\n",
       "       [1.00000000e+00, 7.97029257e-16],\n",
       "       [5.87210990e-04, 9.99412775e-01],\n",
       "       [9.47819769e-01, 5.21802269e-02]], dtype=float32)"
      ]
     },
     "execution_count": 22,
     "metadata": {},
     "output_type": "execute_result"
    }
   ],
   "source": [
    "y_pred"
   ]
  },
  {
   "cell_type": "code",
   "execution_count": 23,
   "metadata": {},
   "outputs": [],
   "source": [
    "import numpy as np\n",
    "y_pred = np.argmax(y_pred, axis=1)"
   ]
  },
  {
   "cell_type": "code",
   "execution_count": 24,
   "metadata": {},
   "outputs": [
    {
     "data": {
      "text/plain": [
       "array([1, 0, 1, 1, 1, 0, 1, 1, 0, 0, 0, 0, 1, 0, 0, 1, 1, 1, 0, 1, 0, 1,\n",
       "       0, 1, 1, 0, 0, 0, 0, 1, 1, 0, 0, 1, 0, 1, 1, 1, 0, 0, 1, 1, 1, 0,\n",
       "       0, 1, 1, 1, 0, 0, 1, 0, 1, 0, 1, 0, 0, 0, 1, 1, 1, 1, 0, 0, 0, 0,\n",
       "       1, 0, 0, 1, 0, 0, 0, 0, 1, 1, 0, 1, 0, 1, 1, 0, 0, 0, 0, 0, 1, 0,\n",
       "       0, 1, 0, 1, 0, 0, 0, 1, 0, 0, 1, 1, 1, 1, 1, 1, 1, 1, 0, 0, 1, 1,\n",
       "       0, 1, 1, 0, 0, 0, 0, 0, 1, 0, 0, 1, 0, 1, 0, 1, 0, 1, 1, 1, 0, 0,\n",
       "       1, 0], dtype=int64)"
      ]
     },
     "execution_count": 24,
     "metadata": {},
     "output_type": "execute_result"
    }
   ],
   "source": [
    "y_pred"
   ]
  },
  {
   "cell_type": "code",
   "execution_count": 25,
   "metadata": {},
   "outputs": [],
   "source": [
    "from tensorflow.keras.models import load_model\n",
    "from tensorflow.keras.preprocessing import image"
   ]
  },
  {
   "cell_type": "code",
   "execution_count": 26,
   "metadata": {},
   "outputs": [],
   "source": [
    "model=load_model('model_vgg19.h5')"
   ]
  },
  {
   "cell_type": "code",
   "execution_count": 29,
   "metadata": {},
   "outputs": [],
   "source": [
    "img=image.load_img('Dataset/Test/Uninfected/2.png',target_size=(224,224))"
   ]
  },
  {
   "cell_type": "code",
   "execution_count": 30,
   "metadata": {},
   "outputs": [
    {
     "data": {
      "text/plain": [
       "array([[[0., 0., 0.],\n",
       "        [0., 0., 0.],\n",
       "        [0., 0., 0.],\n",
       "        ...,\n",
       "        [0., 0., 0.],\n",
       "        [0., 0., 0.],\n",
       "        [0., 0., 0.]],\n",
       "\n",
       "       [[0., 0., 0.],\n",
       "        [0., 0., 0.],\n",
       "        [0., 0., 0.],\n",
       "        ...,\n",
       "        [0., 0., 0.],\n",
       "        [0., 0., 0.],\n",
       "        [0., 0., 0.]],\n",
       "\n",
       "       [[0., 0., 0.],\n",
       "        [0., 0., 0.],\n",
       "        [0., 0., 0.],\n",
       "        ...,\n",
       "        [0., 0., 0.],\n",
       "        [0., 0., 0.],\n",
       "        [0., 0., 0.]],\n",
       "\n",
       "       ...,\n",
       "\n",
       "       [[0., 0., 0.],\n",
       "        [0., 0., 0.],\n",
       "        [0., 0., 0.],\n",
       "        ...,\n",
       "        [0., 0., 0.],\n",
       "        [0., 0., 0.],\n",
       "        [0., 0., 0.]],\n",
       "\n",
       "       [[0., 0., 0.],\n",
       "        [0., 0., 0.],\n",
       "        [0., 0., 0.],\n",
       "        ...,\n",
       "        [0., 0., 0.],\n",
       "        [0., 0., 0.],\n",
       "        [0., 0., 0.]],\n",
       "\n",
       "       [[0., 0., 0.],\n",
       "        [0., 0., 0.],\n",
       "        [0., 0., 0.],\n",
       "        ...,\n",
       "        [0., 0., 0.],\n",
       "        [0., 0., 0.],\n",
       "        [0., 0., 0.]]], dtype=float32)"
      ]
     },
     "execution_count": 30,
     "metadata": {},
     "output_type": "execute_result"
    }
   ],
   "source": [
    "x=image.img_to_array(img)\n",
    "x"
   ]
  },
  {
   "cell_type": "code",
   "execution_count": 31,
   "metadata": {},
   "outputs": [
    {
     "data": {
      "text/plain": [
       "(224, 224, 3)"
      ]
     },
     "execution_count": 31,
     "metadata": {},
     "output_type": "execute_result"
    }
   ],
   "source": [
    "x.shape"
   ]
  },
  {
   "cell_type": "code",
   "execution_count": 32,
   "metadata": {},
   "outputs": [],
   "source": [
    "x=x/255"
   ]
  },
  {
   "cell_type": "code",
   "execution_count": 33,
   "metadata": {},
   "outputs": [
    {
     "data": {
      "text/plain": [
       "(1, 224, 224, 3)"
      ]
     },
     "execution_count": 33,
     "metadata": {},
     "output_type": "execute_result"
    }
   ],
   "source": [
    "x=np.expand_dims(x,axis=0)\n",
    "img_data=preprocess_input(x)\n",
    "img_data.shape"
   ]
  },
  {
   "cell_type": "code",
   "execution_count": 34,
   "metadata": {},
   "outputs": [
    {
     "data": {
      "text/plain": [
       "array([[1., 0.]], dtype=float32)"
      ]
     },
     "execution_count": 34,
     "metadata": {},
     "output_type": "execute_result"
    }
   ],
   "source": [
    "model.predict(img_data)"
   ]
  },
  {
   "cell_type": "code",
   "execution_count": 35,
   "metadata": {},
   "outputs": [],
   "source": [
    "a=np.argmax(model.predict(img_data), axis=1)"
   ]
  },
  {
   "cell_type": "code",
   "execution_count": 36,
   "metadata": {},
   "outputs": [
    {
     "name": "stdout",
     "output_type": "stream",
     "text": [
      "Infected\n"
     ]
    }
   ],
   "source": [
    "if(a==1):\n",
    "    print(\"Uninfected\")\n",
    "else:\n",
    "    print(\"Infected\")"
   ]
  },
  {
   "cell_type": "code",
   "execution_count": null,
   "metadata": {},
   "outputs": [],
   "source": []
  }
 ],
 "metadata": {
  "kernelspec": {
   "display_name": "Python 3",
   "language": "python",
   "name": "python3"
  },
  "language_info": {
   "codemirror_mode": {
    "name": "ipython",
    "version": 3
   },
   "file_extension": ".py",
   "mimetype": "text/x-python",
   "name": "python",
   "nbconvert_exporter": "python",
   "pygments_lexer": "ipython3",
   "version": "3.8.3"
  }
 },
 "nbformat": 4,
 "nbformat_minor": 4
}
